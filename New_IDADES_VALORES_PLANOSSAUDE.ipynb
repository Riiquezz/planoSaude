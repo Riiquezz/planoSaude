{
 "cells": [
  {
   "cell_type": "raw",
   "metadata": {
    "colab_type": "text",
    "id": "qYD47dyoPM_q"
   },
   "source": [
    "# Regressão linear, exemplificando planos de saúde por idade do paciente"
   ]
  },
  {
   "cell_type": "code",
   "execution_count": 0,
   "metadata": {
    "colab": {},
    "colab_type": "code",
    "id": "BfPlHVUEEsFg"
   },
   "outputs": [],
   "source": [
    "import numpy as np #importamos a biblioteca numpy"
   ]
  },
  {
   "cell_type": "raw",
   "metadata": {
    "colab_type": "text",
    "id": "E2f19Op8Pkn2"
   },
   "source": [
    "# O eixo X são as idades"
   ]
  },
  {
   "cell_type": "code",
   "execution_count": 0,
   "metadata": {
    "colab": {},
    "colab_type": "code",
    "id": "a4BXk0ndGI92"
   },
   "outputs": [],
   "source": [
    "X = np.array([ [18], [22], [30],  [35], [46], [49], [54], [63], [77], [83] ])"
   ]
  },
  {
   "cell_type": "code",
   "execution_count": 0,
   "metadata": {
    "colab": {
     "base_uri": "https://localhost:8080/",
     "height": 191
    },
    "colab_type": "code",
    "id": "wnxuBqjyGcF3",
    "outputId": "b74dbc80-02ec-4e5e-ae63-0e05549d3c5d",
    "scrolled": true
   },
   "outputs": [
    {
     "data": {
      "text/plain": [
       "array([[18],\n",
       "       [22],\n",
       "       [30],\n",
       "       [35],\n",
       "       [46],\n",
       "       [49],\n",
       "       [54],\n",
       "       [63],\n",
       "       [77],\n",
       "       [83]])"
      ]
     },
     "execution_count": 5,
     "metadata": {
      "tags": []
     },
     "output_type": "execute_result"
    }
   ],
   "source": [
    "X"
   ]
  },
  {
   "cell_type": "raw",
   "metadata": {
    "colab_type": "text",
    "id": "O5Zd-NeKQaeS"
   },
   "source": [
    "# O eixo Y são os preços"
   ]
  },
  {
   "cell_type": "code",
   "execution_count": 0,
   "metadata": {
    "colab": {},
    "colab_type": "code",
    "id": "F6xJBg7qGvol"
   },
   "outputs": [],
   "source": [
    "y = np.array([ [840], [1000], [1450], [1600], [2100], [2500], [2900], [3400], [4300], [5120] ])"
   ]
  },
  {
   "cell_type": "code",
   "execution_count": 38,
   "metadata": {
    "colab": {
     "base_uri": "https://localhost:8080/",
     "height": 282
    },
    "colab_type": "code",
    "id": "EVbnaCD6HdWK",
    "outputId": "82e51a84-a3b4-4aeb-9ea9-f74d0d2e8331",
    "scrolled": true
   },
   "outputs": [
    {
     "data": {
      "text/plain": [
       "[<matplotlib.lines.Line2D at 0x7f9d8cb644a8>]"
      ]
     },
     "execution_count": 38,
     "metadata": {
      "tags": []
     },
     "output_type": "execute_result"
    },
    {
     "data": {
      "image/png": "[encoded data removed]",
      "text/plain": [
       "<matplotlib.figure.Figure at 0x7f9d8cbd9ef0>"
      ]
     },
     "metadata": {
      "tags": []
     },
     "output_type": "display_data"
    }
   ],
   "source": [
    "import matplotlib.pyplot as plt\n",
    "%matplotlib inline\n",
    "plt.plot(X, y)"
   ]
  },
  {
   "cell_type": "raw",
   "metadata": {
    "colab_type": "text",
    "id": "QnhlVeOhRXzg"
   },
   "source": [
    "# Agora encontramos as variáveis b0 e b1 da fórmula da regressão linear."
   ]
  },
  {
   "cell_type": "code",
   "execution_count": 0,
   "metadata": {
    "colab": {
     "base_uri": "https://localhost:8080/",
     "height": 52
    },
    "colab_type": "code",
    "id": "Ctbn-GlTIuGH",
    "outputId": "7aa4868d-e5bb-47ba-e623-35da90bb6984"
   },
   "outputs": [
    {
     "data": {
      "text/plain": [
       "LinearRegression(copy_X=True, fit_intercept=True, n_jobs=None,\n",
       "         normalize=False)"
      ]
     },
     "execution_count": 8,
     "metadata": {
      "tags": []
     },
     "output_type": "execute_result"
    }
   ],
   "source": [
    "from sklearn.linear_model import LinearRegression\n",
    "regressor = LinearRegression()\n",
    "regressor.fit(X, y)"
   ]
  },
  {
   "cell_type": "code",
   "execution_count": 0,
   "metadata": {
    "colab": {
     "base_uri": "https://localhost:8080/",
     "height": 34
    },
    "colab_type": "code",
    "id": "sb-tBeF7JMlG",
    "outputId": "3ae31daa-4de5-4855-855c-879348c660d7"
   },
   "outputs": [
    {
     "data": {
      "text/plain": [
       "array([-515.06852117])"
      ]
     },
     "execution_count": 9,
     "metadata": {
      "tags": []
     },
     "output_type": "execute_result"
    }
   ],
   "source": [
    "# Valores\n",
    "\n",
    "#b0 \n",
    "regressor.intercept_"
   ]
  },
  {
   "cell_type": "code",
   "execution_count": 0,
   "metadata": {
    "colab": {
     "base_uri": "https://localhost:8080/",
     "height": 34
    },
    "colab_type": "code",
    "id": "H3qDBgc-JfIS",
    "outputId": "a3e2ca0e-8830-48f4-fe55-8f9660a2b663"
   },
   "outputs": [
    {
     "data": {
      "text/plain": [
       "array([[63.64923524]])"
      ]
     },
     "execution_count": 10,
     "metadata": {
      "tags": []
     },
     "output_type": "execute_result"
    }
   ],
   "source": [
    "#b1\n",
    "regressor.coef_"
   ]
  },
  {
   "cell_type": "raw",
   "metadata": {
    "colab_type": "text",
    "id": "c9qkViWUSWxf"
   },
   "source": [
    "# Agora nós iremos fazer as previsões dos preços com base nos nossos coeficientes. É como se pedissemos para que ele mostre o que entendeu do nosso gráfico."
   ]
  },
  {
   "cell_type": "code",
   "execution_count": 0,
   "metadata": {
    "colab": {},
    "colab_type": "code",
    "id": "-qomRZx-KcS8"
   },
   "outputs": [],
   "source": [
    "previsoes = regressor.predict(X)"
   ]
  },
  {
   "cell_type": "raw",
   "metadata": {
    "colab_type": "text",
    "id": "Wh3qxIqGS3oF"
   },
   "source": [
    "# Pedindo para que o algorítmo prevesse o preço do plano de saúde para as mesmas idades do array X"
   ]
  },
  {
   "cell_type": "code",
   "execution_count": 0,
   "metadata": {
    "colab": {
     "base_uri": "https://localhost:8080/",
     "height": 191
    },
    "colab_type": "code",
    "id": "LJXfAfEZK8QO",
    "outputId": "8f8f391f-531d-422c-bc0d-b51d85836788"
   },
   "outputs": [
    {
     "data": {
      "text/plain": [
       "array([[ 630.61771323],\n",
       "       [ 885.21465421],\n",
       "       [1394.40853617],\n",
       "       [1712.65471239],\n",
       "       [2412.79630008],\n",
       "       [2603.74400582],\n",
       "       [2921.99018204],\n",
       "       [3494.83329924],\n",
       "       [4385.92259267],\n",
       "       [4767.81800414]])"
      ]
     },
     "execution_count": 25,
     "metadata": {
      "tags": []
     },
     "output_type": "execute_result"
    }
   ],
   "source": [
    "previsoes"
   ]
  },
  {
   "cell_type": "code",
   "execution_count": 0,
   "metadata": {
    "colab": {},
    "colab_type": "code",
    "id": "82srjP7mMwo5"
   },
   "outputs": [],
   "source": [
    "from sklearn.metrics import mean_squared_error, mean_absolute_error\n",
    "mae = mean_absolute_error(y, previsoes)\n",
    "mse = mean_squared_error(y, previsoes)"
   ]
  },
  {
   "cell_type": "raw",
   "metadata": {
    "colab_type": "text",
    "id": "olgGwD4aTJ8I"
   },
   "source": [
    "# O quanto o nosso algoritmo errou com base na análise de erro via MEAN ABSOLUTE ERROR"
   ]
  },
  {
   "cell_type": "code",
   "execution_count": 44,
   "metadata": {
    "colab": {
     "base_uri": "https://localhost:8080/",
     "height": 34
    },
    "colab_type": "code",
    "id": "XpbIrITMTG8R",
    "outputId": "aa4ef9a4-bd9c-497d-8b52-40484d8e5f8e"
   },
   "outputs": [
    {
     "data": {
      "text/plain": [
       "146.38821844958085"
      ]
     },
     "execution_count": 44,
     "metadata": {
      "tags": []
     },
     "output_type": "execute_result"
    }
   ],
   "source": [
    "mae"
   ]
  },
  {
   "cell_type": "raw",
   "metadata": {
    "colab_type": "text",
    "id": "dammKiZOTcgA"
   },
   "source": [
    "# O quanto o nosso algoritmo errou com base na análise de erro via MEAN SQUARED ERROR"
   ]
  },
  {
   "cell_type": "code",
   "execution_count": 45,
   "metadata": {
    "colab": {
     "base_uri": "https://localhost:8080/",
     "height": 34
    },
    "colab_type": "code",
    "id": "VHfbbOg3TZmZ",
    "outputId": "3961da2a-94b1-4551-e9e5-49377da10e25"
   },
   "outputs": [
    {
     "data": {
      "text/plain": [
       "32229.422967659822"
      ]
     },
     "execution_count": 45,
     "metadata": {
      "tags": []
     },
     "output_type": "execute_result"
    }
   ],
   "source": [
    "mse"
   ]
  },
  {
   "cell_type": "raw",
   "metadata": {
    "colab_type": "text",
    "id": "AIiiN_23Tp0H"
   },
   "source": [
    "# Então ao fim é elaborado um gráfico, onde os circulos em azul indicam o valor ideal da resposta, que é a resposta quando o algorítimo atinge 100% de \"sabedoria\", e os circulos em vermelho indicam a resposta do algoritmo após as nossas definições, ou seja, depois de \"treinarmos\" o algorítmo."
   ]
  },
  {
   "cell_type": "code",
   "execution_count": 50,
   "metadata": {
    "colab": {
     "base_uri": "https://localhost:8080/",
     "height": 311
    },
    "colab_type": "code",
    "id": "v-NaC5DWN6-G",
    "outputId": "0a51eee8-01d4-46c8-87c9-e7450f859dcd"
   },
   "outputs": [
    {
     "data": {
      "text/plain": [
       "Text(0,0.5,'Preço')"
      ]
     },
     "execution_count": 50,
     "metadata": {
      "tags": []
     },
     "output_type": "execute_result"
    },
    {
     "data": {
      "image/png": "[encoded data removed]",
      "text/plain": [
       "<matplotlib.figure.Figure at 0x7f9d8c756828>"
      ]
     },
     "metadata": {
      "tags": []
     },
     "output_type": "display_data"
    }
   ],
   "source": [
    "plt.plot(X, y, 'o', color = 'blue')\n",
    "plt.plot(X, previsoes, 'o', color = 'red')\n",
    "plt.title('Regressão linear simples - Plano de saúde')\n",
    "plt.xlabel('Idade')\n",
    "plt.ylabel('Preço')"
   ]
  }
 ],
 "metadata": {
  "colab": {
   "name": "Regressão linear - SkLearn.ipynb",
   "provenance": [],
   "version": "0.3.2"
  },
  "kernelspec": {
   "display_name": "Python 3",
   "language": "python",
   "name": "python3"
  },
  "language_info": {
   "codemirror_mode": {
    "name": "ipython",
    "version": 3
   },
   "file_extension": ".py",
   "mimetype": "text/x-python",
   "name": "python",
   "nbconvert_exporter": "python",
   "pygments_lexer": "ipython3",
   "version": "3.6.7"
  }
 },
 "nbformat": 4,
 "nbformat_minor": 1
}
